{
 "cells": [
  {
   "cell_type": "markdown",
   "metadata": {},
   "source": [
    "<h2>Regression Model Selection</h2>\n",
    "<h4>Mean Squared Error (MSE)</h4>\n",
    "\n",
    "$$\\text{MSE} = \\frac{1}{n}  \\sum_{i=1}^n (y_i - \\hat{y_i})^2$$ \n",
    "\n",
    "- ***$n$*** is the number of data points;\n",
    "- ***$y_i$***  represents the actual value of the dependent variable for the ***i***-th observation;\n",
    "- ***$\\hat{y_i}$***  represents the predicted value of the dependent variable for the***i***-th observation;\n",
    "\n",
    "**MSE** is widely used to assess the accuracy of a regression model. It squares the differences between predicted and actual values, giving larger errors more weight. A lower MSE indicates better model performance, with 0 being a perfect fit (though practically rare due to overfitting).\n",
    "\n",
    "<h4>Mean Absolute Error (MAE)</h4>\n",
    "\n",
    "$$\\text{MAE} = \\frac{1}{n}  \\sum_{i=1}^n \\lvert y_i - \\hat{y_i}\n",
    "\\rvert$$ \n",
    "\n",
    "- ***$n$*** is the number of data points;\n",
    "- ***$y_i$***  represents the actual value of the dependent variable for the ***i***-th observation;\n",
    "- ***$\\hat{y_i}$***  represents the predicted value of the dependent variable for the***i***-th observation;\n",
    "\n",
    "**MAE** provides a more straightforward measure of average error compared to MSE because it treats all errors equally by taking the absolute differences. It is less sensitive to outliers and can be useful when the focus is on the magnitude of errors rather than their direction.\n",
    "\n",
    "<h4>R-squared (R^2)</h4>\n",
    "\n",
    "$$R^2 = \\frac{\n",
    "\\sum_{i=1}^n (y_i - \\hat{y_i})^2\n",
    "}{\n",
    "\\sum_{i=1}^n (y_i - \\bar{y})^2\n",
    "}$$\n",
    "\n",
    "- ***$n$*** is the number of data points;\n",
    "- ***$y_i$***  represents the actual value of the dependent variable for the ***i***-th observation;\n",
    "- ***$\\hat{y_i}$***  represents the predicted value of the dependent variable for the***i***-th observation;\n",
    "- ***$\\bar{y}$*** is the mean of the actual values $y_i$;\n",
    "\n",
    "**R-squared** ranges from 0 to 1, with 1 indicating a perfect fit where the model explains all the variability of the dependent variable around its mean. A lower R² suggests that the model does not explain much of the variability in the data. It is a widely used metric to evaluate the overall fit and performance of regression models.\n"
   ]
  },
  {
   "cell_type": "markdown",
   "metadata": {},
   "source": [
    "<h4>Importing libraries</h4>"
   ]
  },
  {
   "cell_type": "code",
   "execution_count": 1,
   "metadata": {},
   "outputs": [],
   "source": [
    "import matplotlib.pyplot as plt\n",
    "import numpy as np\n",
    "import pandas as pd"
   ]
  },
  {
   "cell_type": "markdown",
   "metadata": {},
   "source": [
    "<h4>Loading & preparing datasets</h4>"
   ]
  },
  {
   "cell_type": "code",
   "execution_count": 2,
   "metadata": {},
   "outputs": [],
   "source": [
    "df = pd.read_csv(\"./Data.csv\")\n",
    "X = df.iloc[:, :-1].values\n",
    "y = df.iloc[:, -1].values"
   ]
  },
  {
   "cell_type": "code",
   "execution_count": 3,
   "metadata": {},
   "outputs": [
    {
     "name": "stdout",
     "output_type": "stream",
     "text": [
      "[[  14.96   41.76 1024.07   73.17]\n",
      " [  25.18   62.96 1020.04   59.08]\n",
      " [   5.11   39.4  1012.16   92.14]\n",
      " ...\n",
      " [  31.32   74.33 1012.92   36.48]\n",
      " [  24.48   69.45 1013.86   62.39]\n",
      " [  21.6    62.52 1017.23   67.87]]\n"
     ]
    }
   ],
   "source": [
    "print(X)"
   ]
  },
  {
   "cell_type": "code",
   "execution_count": 4,
   "metadata": {},
   "outputs": [
    {
     "name": "stdout",
     "output_type": "stream",
     "text": [
      "[463.26 444.37 488.56 ... 429.57 435.74 453.28]\n"
     ]
    }
   ],
   "source": [
    "print(y)"
   ]
  },
  {
   "cell_type": "code",
   "execution_count": 5,
   "metadata": {},
   "outputs": [],
   "source": [
    "from sklearn.model_selection import train_test_split\n",
    "\n",
    "X_train, X_test, y_train, y_test = train_test_split(X, y, test_size=0.2, random_state=23)"
   ]
  },
  {
   "cell_type": "code",
   "execution_count": 6,
   "metadata": {},
   "outputs": [
    {
     "name": "stdout",
     "output_type": "stream",
     "text": [
      "[[  27.35   77.95 1012.14   74.14]\n",
      " [  28.11   70.98 1007.76   85.6 ]\n",
      " [  18.68   43.69 1016.68   48.88]\n",
      " ...\n",
      " [  24.22   49.82 1014.61   66.82]\n",
      " [  25.59   61.5  1009.12   68.  ]\n",
      " [  20.54   49.15 1021.02   56.  ]]\n"
     ]
    }
   ],
   "source": [
    "print(X_train)"
   ]
  },
  {
   "cell_type": "code",
   "execution_count": 7,
   "metadata": {},
   "outputs": [
    {
     "name": "stdout",
     "output_type": "stream",
     "text": [
      "[[  24.22   68.51 1013.23   74.96]\n",
      " [  33.59   79.05 1007.79   63.55]\n",
      " [  14.43   35.85 1021.99   78.25]\n",
      " ...\n",
      " [  33.72   74.33 1011.4    37.51]\n",
      " [  17.47   58.59 1014.03   97.13]\n",
      " [  31.63   70.17  999.4    59.94]]\n"
     ]
    }
   ],
   "source": [
    "print(X_test)"
   ]
  },
  {
   "cell_type": "code",
   "execution_count": 8,
   "metadata": {},
   "outputs": [
    {
     "name": "stdout",
     "output_type": "stream",
     "text": [
      "[431.72 431.83 463.02 ... 452.2  439.14 458.6 ]\n"
     ]
    }
   ],
   "source": [
    "print(y_train)"
   ]
  },
  {
   "cell_type": "code",
   "execution_count": 9,
   "metadata": {},
   "outputs": [
    {
     "name": "stdout",
     "output_type": "stream",
     "text": [
      "[440.01 436.51 464.6  ... 428.96 449.41 432.07]\n"
     ]
    }
   ],
   "source": [
    "print(y_test)"
   ]
  },
  {
   "cell_type": "markdown",
   "metadata": {},
   "source": [
    "<h4>Collecting regression models</h4>"
   ]
  },
  {
   "cell_type": "code",
   "execution_count": 10,
   "metadata": {},
   "outputs": [],
   "source": [
    "regressors = []"
   ]
  },
  {
   "cell_type": "markdown",
   "metadata": {},
   "source": [
    "<h4>Polynomial Regression</h4>"
   ]
  },
  {
   "cell_type": "code",
   "execution_count": 11,
   "metadata": {},
   "outputs": [],
   "source": [
    "from sklearn.preprocessing import PolynomialFeatures\n",
    "from sklearn.linear_model import LinearRegression\n",
    "\n",
    "poly_feats = PolynomialFeatures()\n",
    "X_train_poly = poly_feats.fit_transform(X_train)\n",
    "X_test_poly = poly_feats.transform(X_test)\n",
    "\n",
    "poly_regressor = LinearRegression()"
   ]
  },
  {
   "cell_type": "markdown",
   "metadata": {},
   "source": [
    "<h4>Linear Regression<h4>"
   ]
  },
  {
   "cell_type": "code",
   "execution_count": 12,
   "metadata": {},
   "outputs": [],
   "source": [
    "regressors.append(LinearRegression())"
   ]
  },
  {
   "cell_type": "markdown",
   "metadata": {},
   "source": [
    "<h4>Support Vector Regression</h4>"
   ]
  },
  {
   "cell_type": "code",
   "execution_count": 13,
   "metadata": {},
   "outputs": [],
   "source": [
    "from sklearn.svm import SVR\n",
    "\n",
    "regressors.append(SVR())"
   ]
  },
  {
   "cell_type": "markdown",
   "metadata": {},
   "source": [
    "<h4>Decision Tree Regression</h4>"
   ]
  },
  {
   "cell_type": "code",
   "execution_count": 14,
   "metadata": {},
   "outputs": [],
   "source": [
    "from sklearn.tree import DecisionTreeRegressor\n",
    "\n",
    "regressors.append(DecisionTreeRegressor())"
   ]
  },
  {
   "cell_type": "markdown",
   "metadata": {},
   "source": [
    "<h4>Random Forest Regression</h4>"
   ]
  },
  {
   "cell_type": "code",
   "execution_count": 15,
   "metadata": {},
   "outputs": [],
   "source": [
    "from sklearn.ensemble import RandomForestRegressor\n",
    "\n",
    "regressors.append(RandomForestRegressor())"
   ]
  },
  {
   "cell_type": "code",
   "execution_count": 16,
   "metadata": {},
   "outputs": [
    {
     "name": "stdout",
     "output_type": "stream",
     "text": [
      "Polynomial Regressor\n",
      "Mean Squarred Error: 17.83196882590042\n",
      "Mean Absolute Error: 3.2977543121500807\n",
      "R Squared Score: 0.9397368002721032\n",
      "\n",
      " <class 'sklearn.linear_model._base.LinearRegression'>\n",
      "Mean Squarred Error: 20.036867448832787\n",
      "Mean Absolute Error: 3.547314467257839\n",
      "R Squared Score: 0.9322853378233498\n",
      "\n",
      " <class 'sklearn.svm._classes.SVR'>\n",
      "Mean Squarred Error: 181.3664882353528\n",
      "Mean Absolute Error: 11.250795756309916\n",
      "R Squared Score: 0.38707133176460007\n",
      "\n",
      " <class 'sklearn.tree._classes.DecisionTreeRegressor'>\n",
      "Mean Squarred Error: 18.888693207941486\n",
      "Mean Absolute Error: 2.9552873563218385\n",
      "R Squared Score: 0.9361655966033426\n",
      "\n",
      " <class 'sklearn.ensemble._forest.RandomForestRegressor'>\n",
      "Mean Squarred Error: 10.905018933636407\n",
      "Mean Absolute Error: 2.2749188087774326\n",
      "R Squared Score: 0.9631464511602497\n"
     ]
    }
   ],
   "source": [
    "from sklearn.metrics import mean_squared_error, mean_absolute_error, r2_score\n",
    "\n",
    "poly_regressor.fit(X_train_poly, y_train)\n",
    "y_pred = poly_regressor.predict(X_test_poly)\n",
    "\n",
    "print(\"Polynomial Regressor\")\n",
    "print(\"Mean Squarred Error:\", mean_squared_error(y_test, y_pred))\n",
    "print(\"Mean Absolute Error:\", mean_absolute_error(y_test, y_pred))\n",
    "print(\"R Squared Score:\", r2_score(y_test, y_pred))\n",
    "\n",
    "for model in regressors:\n",
    "    model.fit(X_train, y_train)\n",
    "    y_pred = model.predict(X_test)\n",
    "\n",
    "    print(\"\\n\", model.__class__)\n",
    "    print(\"Mean Squarred Error:\", mean_squared_error(y_test, y_pred))\n",
    "    print(\"Mean Absolute Error:\", mean_absolute_error(y_test, y_pred))\n",
    "    print(\"R Squared Score:\", r2_score(y_test, y_pred))"
   ]
  }
 ],
 "metadata": {
  "kernelspec": {
   "display_name": "Python 3",
   "language": "python",
   "name": "python3"
  },
  "language_info": {
   "codemirror_mode": {
    "name": "ipython",
    "version": 3
   },
   "file_extension": ".py",
   "mimetype": "text/x-python",
   "name": "python",
   "nbconvert_exporter": "python",
   "pygments_lexer": "ipython3",
   "version": "3.12.2"
  }
 },
 "nbformat": 4,
 "nbformat_minor": 2
}
