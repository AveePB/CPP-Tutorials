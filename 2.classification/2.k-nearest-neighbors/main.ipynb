{
 "cells": [
  {
   "cell_type": "markdown",
   "metadata": {},
   "source": [
    "<h2>K Nearest Neighbors (KNN)</h2>\n",
    "The k-NN algorithm is a type of instance-based learning, where the model makes predictions based on the similarity between data points. It is a non-parametric method, meaning it does not make any assumptions about the underlying data distribution.\n",
    "\n",
    "<h4>How KNN Works</h4>\n",
    "\n",
    "1. Data Representation:\n",
    "    - Each data point is represented in an n-dimensional feature space. For example, if we are classifying fruits based on color and size, each fruit is a point in a 2-dimensional space.\n",
    "\n",
    "2. Choosing k:\n",
    "    - The parameter 𝑘 represents the number of nearest neighbors to consider when making a prediction. Choosing the right 𝑘 is crucial for the performance of the algorithm.\n",
    "\n",
    "3. Distance Metric:\n",
    "    - To find the nearest neighbors, the algorithm calculates the distance between points using a distance metric, such as Euclidean distance, Manhattan distance, or others. For example, Euclidean distance between two points $(x_1, y_1)$ and $(x_2, y_2)$ is calculated as:\n",
    "$$\n",
    "    d = \\sqrt{(x_2 - x_1)^2 + (y_2 - y_1)^2}\n",
    "$$\n",
    "\n",
    "4. Finding Nearest Neighbors:\n",
    "    - For a given query point (the point we want to classify or predict), the algorithm finds the \n",
    "    𝑘 data points in the training set that are closest to the query point based on the chosen distance metric.\n",
    "\n",
    "5. Making Predictions:\n",
    "\n",
    "    - Classification: For classification tasks, the algorithm assigns the class label that is most common among the 𝑘 nearest neighbors. This is typically done using a majority vote.\n",
    "\n",
    "    - Regression: For regression tasks, the algorithm predicts the value based on the average (or weighted average) of the values of the 𝑘 nearest neighbors."
   ]
  },
  {
   "cell_type": "markdown",
   "metadata": {},
   "source": [
    "<h4>Importing libraries</h4>"
   ]
  },
  {
   "cell_type": "code",
   "execution_count": 12,
   "metadata": {},
   "outputs": [],
   "source": [
    "import numpy as np\n",
    "import matplotlib.pyplot as plt\n",
    "import pandas as pd"
   ]
  },
  {
   "cell_type": "markdown",
   "metadata": {},
   "source": [
    "<h4>Loading dataset</h4>"
   ]
  },
  {
   "cell_type": "code",
   "execution_count": 13,
   "metadata": {},
   "outputs": [],
   "source": [
    "from sklearn.datasets import load_iris\n",
    "\n",
    "X = load_iris().data\n",
    "y = load_iris().target"
   ]
  },
  {
   "cell_type": "markdown",
   "metadata": {},
   "source": [
    "<h4>Splitting data</h4>"
   ]
  },
  {
   "cell_type": "code",
   "execution_count": 14,
   "metadata": {},
   "outputs": [],
   "source": [
    "from sklearn.model_selection import train_test_split\n",
    "\n",
    "X_train, X_test, y_train, y_test = train_test_split(X, y, test_size=0.2, random_state=23)"
   ]
  },
  {
   "cell_type": "code",
   "execution_count": 15,
   "metadata": {},
   "outputs": [
    {
     "name": "stdout",
     "output_type": "stream",
     "text": [
      "[[4.9 3.1 1.5 0.1]\n",
      " [5.2 2.7 3.9 1.4]\n",
      " [5.4 3.9 1.3 0.4]\n",
      " [7.7 2.8 6.7 2. ]\n",
      " [5.  3.4 1.5 0.2]\n",
      " [5.4 3.9 1.7 0.4]\n",
      " [6.5 2.8 4.6 1.5]\n",
      " [5.  2.3 3.3 1. ]\n",
      " [5.7 3.  4.2 1.2]\n",
      " [6.3 3.3 6.  2.5]\n",
      " [6.9 3.2 5.7 2.3]\n",
      " [4.8 3.4 1.9 0.2]\n",
      " [5.5 2.4 3.7 1. ]\n",
      " [4.6 3.2 1.4 0.2]\n",
      " [6.3 2.3 4.4 1.3]\n",
      " [6.3 2.5 5.  1.9]\n",
      " [4.9 2.5 4.5 1.7]\n",
      " [7.9 3.8 6.4 2. ]\n",
      " [4.9 3.1 1.5 0.2]\n",
      " [5.7 2.8 4.1 1.3]\n",
      " [7.4 2.8 6.1 1.9]\n",
      " [6.2 3.4 5.4 2.3]\n",
      " [5.5 4.2 1.4 0.2]\n",
      " [6.1 2.6 5.6 1.4]\n",
      " [5.4 3.  4.5 1.5]\n",
      " [7.  3.2 4.7 1.4]\n",
      " [7.7 3.8 6.7 2.2]\n",
      " [5.9 3.  4.2 1.5]\n",
      " [5.  3.6 1.4 0.2]\n",
      " [6.5 3.2 5.1 2. ]\n",
      " [6.7 3.  5.  1.7]\n",
      " [4.7 3.2 1.6 0.2]\n",
      " [5.8 2.6 4.  1.2]\n",
      " [5.1 3.3 1.7 0.5]\n",
      " [6.4 2.8 5.6 2.1]\n",
      " [5.5 2.3 4.  1.3]\n",
      " [6.8 2.8 4.8 1.4]\n",
      " [6.4 2.8 5.6 2.2]\n",
      " [5.8 2.8 5.1 2.4]\n",
      " [6.3 2.5 4.9 1.5]\n",
      " [4.9 3.6 1.4 0.1]\n",
      " [5.  3.4 1.6 0.4]\n",
      " [6.3 3.4 5.6 2.4]\n",
      " [4.9 3.  1.4 0.2]\n",
      " [4.8 3.4 1.6 0.2]\n",
      " [6.8 3.  5.5 2.1]\n",
      " [5.8 2.7 5.1 1.9]\n",
      " [5.5 2.5 4.  1.3]\n",
      " [4.4 2.9 1.4 0.2]\n",
      " [5.6 3.  4.1 1.3]\n",
      " [6.4 2.7 5.3 1.9]\n",
      " [6.2 2.2 4.5 1.5]\n",
      " [6.5 3.  5.8 2.2]\n",
      " [7.6 3.  6.6 2.1]\n",
      " [6.2 2.9 4.3 1.3]\n",
      " [4.4 3.2 1.3 0.2]\n",
      " [6.1 2.8 4.  1.3]\n",
      " [5.6 2.8 4.9 2. ]\n",
      " [6.1 3.  4.9 1.8]\n",
      " [6.  2.2 4.  1. ]\n",
      " [5.2 3.5 1.5 0.2]\n",
      " [5.7 2.8 4.5 1.3]\n",
      " [6.  3.4 4.5 1.6]\n",
      " [5.8 2.7 3.9 1.2]\n",
      " [6.  2.2 5.  1.5]\n",
      " [5.9 3.2 4.8 1.8]\n",
      " [5.5 2.4 3.8 1.1]\n",
      " [5.8 2.7 5.1 1.9]\n",
      " [7.3 2.9 6.3 1.8]\n",
      " [7.2 3.6 6.1 2.5]\n",
      " [5.8 4.  1.2 0.2]\n",
      " [6.7 3.3 5.7 2.1]\n",
      " [5.1 2.5 3.  1.1]\n",
      " [5.2 4.1 1.5 0.1]\n",
      " [6.8 3.2 5.9 2.3]\n",
      " [6.  3.  4.8 1.8]\n",
      " [5.1 3.5 1.4 0.2]\n",
      " [6.  2.9 4.5 1.5]\n",
      " [5.6 2.7 4.2 1.3]\n",
      " [6.5 3.  5.2 2. ]\n",
      " [4.4 3.  1.3 0.2]\n",
      " [4.6 3.6 1.  0.2]\n",
      " [5.  2.  3.5 1. ]\n",
      " [4.3 3.  1.1 0.1]\n",
      " [6.3 3.3 4.7 1.6]\n",
      " [5.7 2.9 4.2 1.3]\n",
      " [5.  3.2 1.2 0.2]\n",
      " [6.7 2.5 5.8 1.8]\n",
      " [6.4 2.9 4.3 1.3]\n",
      " [5.6 3.  4.5 1.5]\n",
      " [5.  3.  1.6 0.2]\n",
      " [7.7 2.6 6.9 2.3]\n",
      " [6.6 2.9 4.6 1.3]\n",
      " [5.9 3.  5.1 1.8]\n",
      " [6.3 2.9 5.6 1.8]\n",
      " [6.7 3.1 4.7 1.5]\n",
      " [5.7 4.4 1.5 0.4]\n",
      " [5.  3.5 1.6 0.6]\n",
      " [6.5 3.  5.5 1.8]\n",
      " [7.2 3.  5.8 1.6]\n",
      " [6.7 3.1 4.4 1.4]\n",
      " [5.5 3.5 1.3 0.2]\n",
      " [6.7 3.  5.2 2.3]\n",
      " [4.9 2.4 3.3 1. ]\n",
      " [6.7 3.3 5.7 2.5]\n",
      " [5.7 2.6 3.5 1. ]\n",
      " [4.5 2.3 1.3 0.3]\n",
      " [5.3 3.7 1.5 0.2]\n",
      " [5.1 3.7 1.5 0.4]\n",
      " [6.9 3.1 5.1 2.3]\n",
      " [5.  3.3 1.4 0.2]\n",
      " [4.8 3.  1.4 0.1]\n",
      " [6.3 2.7 4.9 1.8]\n",
      " [4.6 3.4 1.4 0.3]\n",
      " [5.5 2.6 4.4 1.2]\n",
      " [5.1 3.4 1.5 0.2]\n",
      " [6.1 3.  4.6 1.4]\n",
      " [5.4 3.4 1.5 0.4]\n",
      " [5.  3.5 1.3 0.3]\n",
      " [6.  2.7 5.1 1.6]]\n"
     ]
    }
   ],
   "source": [
    "print(X_train)"
   ]
  },
  {
   "cell_type": "code",
   "execution_count": 16,
   "metadata": {},
   "outputs": [
    {
     "name": "stdout",
     "output_type": "stream",
     "text": [
      "[[6.9 3.1 5.4 2.1]\n",
      " [7.2 3.2 6.  1.8]\n",
      " [5.8 2.7 4.1 1. ]\n",
      " [4.6 3.1 1.5 0.2]\n",
      " [5.7 2.5 5.  2. ]\n",
      " [6.9 3.1 4.9 1.5]\n",
      " [5.7 3.8 1.7 0.3]\n",
      " [6.4 3.1 5.5 1.8]\n",
      " [5.4 3.4 1.7 0.2]\n",
      " [5.6 2.9 3.6 1.3]\n",
      " [6.1 2.8 4.7 1.2]\n",
      " [4.8 3.1 1.6 0.2]\n",
      " [7.1 3.  5.9 2.1]\n",
      " [5.1 3.8 1.5 0.3]\n",
      " [5.4 3.7 1.5 0.2]\n",
      " [6.3 2.8 5.1 1.5]\n",
      " [6.4 3.2 4.5 1.5]\n",
      " [6.1 2.9 4.7 1.4]\n",
      " [7.7 3.  6.1 2.3]\n",
      " [5.2 3.4 1.4 0.2]\n",
      " [6.4 3.2 5.3 2.3]\n",
      " [4.8 3.  1.4 0.3]\n",
      " [5.1 3.8 1.6 0.2]\n",
      " [4.7 3.2 1.3 0.2]\n",
      " [6.7 3.1 5.6 2.4]\n",
      " [5.1 3.5 1.4 0.3]\n",
      " [5.1 3.8 1.9 0.4]\n",
      " [6.2 2.8 4.8 1.8]\n",
      " [6.6 3.  4.4 1.4]\n",
      " [5.6 2.5 3.9 1.1]]\n"
     ]
    }
   ],
   "source": [
    "print(X_test)"
   ]
  },
  {
   "cell_type": "code",
   "execution_count": 17,
   "metadata": {},
   "outputs": [
    {
     "name": "stdout",
     "output_type": "stream",
     "text": [
      "[0 1 0 2 0 0 1 1 1 2 2 0 1 0 1 2 2 2 0 1 2 2 0 2 1 1 2 1 0 2 1 0 1 0 2 1 1\n",
      " 2 2 1 0 0 2 0 0 2 2 1 0 1 2 1 2 2 1 0 1 2 2 1 0 1 1 1 2 1 1 2 2 2 0 2 1 0\n",
      " 2 2 0 1 1 2 0 0 1 0 1 1 0 2 1 1 0 2 1 2 2 1 0 0 2 2 1 0 2 1 2 1 0 0 0 2 0\n",
      " 0 2 0 1 0 1 0 0 1]\n"
     ]
    }
   ],
   "source": [
    "print(y_train)"
   ]
  },
  {
   "cell_type": "code",
   "execution_count": 18,
   "metadata": {},
   "outputs": [
    {
     "name": "stdout",
     "output_type": "stream",
     "text": [
      "[2 2 1 0 2 1 0 2 0 1 1 0 2 0 0 2 1 1 2 0 2 0 0 0 2 0 0 2 1 1]\n"
     ]
    }
   ],
   "source": [
    "print(y_test)"
   ]
  },
  {
   "cell_type": "markdown",
   "metadata": {},
   "source": [
    "<h4>Training the model</h4>"
   ]
  },
  {
   "cell_type": "code",
   "execution_count": 19,
   "metadata": {},
   "outputs": [],
   "source": [
    "from sklearn.neighbors import KNeighborsClassifier\n",
    "\n",
    "knn = KNeighborsClassifier()\n",
    "knn.fit(X_train, y_train)\n",
    "y_pred = knn.predict(X_test)"
   ]
  },
  {
   "cell_type": "markdown",
   "metadata": {},
   "source": [
    "<h4>Visualising results</h4>"
   ]
  },
  {
   "cell_type": "code",
   "execution_count": 20,
   "metadata": {},
   "outputs": [
    {
     "name": "stderr",
     "output_type": "stream",
     "text": [
      "C:\\Users\\mike3\\AppData\\Local\\Temp\\ipykernel_20392\\458552280.py:4: UserWarning: *c* argument looks like a single numeric RGB or RGBA sequence, which should be avoided as value-mapping will have precedence in case its length matches with *x* & *y*.  Please use the *color* keyword-argument or provide a 2D array with a single row if you intend to specify the same RGB or RGBA value for all points.\n",
      "  plt.scatter(X_test[i][0], X_test[i][1], c = ListedColormap((\"red\", \"green\", \"blue\"))(y_pred[i]))\n"
     ]
    },
    {
     "data": {
      "image/png": "[encoded data removed]",
      "text/plain": [
       "<Figure size 640x480 with 1 Axes>"
      ]
     },
     "metadata": {},
     "output_type": "display_data"
    }
   ],
   "source": [
    "from matplotlib.colors import ListedColormap\n",
    "\n",
    "for i in range(len(y_pred)):\n",
    "    plt.scatter(X_test[i][0], X_test[i][1], c = ListedColormap((\"red\", \"green\", \"blue\"))(y_pred[i]))\n",
    "\n",
    "\n",
    "plt.title(\"Predictions: Sepal length VS Sepal width\")\n",
    "plt.xlabel(\"Sepal length\")\n",
    "plt.ylabel(\"Sepal width\")\n",
    "plt.show()"
   ]
  },
  {
   "cell_type": "code",
   "execution_count": 21,
   "metadata": {},
   "outputs": [
    {
     "name": "stderr",
     "output_type": "stream",
     "text": [
      "C:\\Users\\mike3\\AppData\\Local\\Temp\\ipykernel_20392\\2965732401.py:4: UserWarning: *c* argument looks like a single numeric RGB or RGBA sequence, which should be avoided as value-mapping will have precedence in case its length matches with *x* & *y*.  Please use the *color* keyword-argument or provide a 2D array with a single row if you intend to specify the same RGB or RGBA value for all points.\n",
      "  plt.scatter(X_test[i][2], X_test[i][3], c = ListedColormap((\"red\", \"green\", \"blue\"))(y_pred[i]))\n"
     ]
    },
    {
     "data": {
      "image/png": "[encoded data removed]",
      "text/plain": [
       "<Figure size 640x480 with 1 Axes>"
      ]
     },
     "metadata": {},
     "output_type": "display_data"
    }
   ],
   "source": [
    "from matplotlib.colors import ListedColormap\n",
    "\n",
    "for i in range(len(y_pred)):\n",
    "    plt.scatter(X_test[i][2], X_test[i][3], c = ListedColormap((\"red\", \"green\", \"blue\"))(y_pred[i]))\n",
    "\n",
    "\n",
    "plt.title(\"Predictions: Petal length VS Petal width\")\n",
    "plt.xlabel(\"Petal length\")\n",
    "plt.ylabel(\"Petal width\")\n",
    "plt.show()"
   ]
  },
  {
   "cell_type": "code",
   "execution_count": 22,
   "metadata": {},
   "outputs": [
    {
     "name": "stdout",
     "output_type": "stream",
     "text": [
      "1.0\n"
     ]
    }
   ],
   "source": [
    "from sklearn.metrics import accuracy_score\n",
    "\n",
    "print(accuracy_score(y_test, y_pred))"
   ]
  }
 ],
 "metadata": {
  "kernelspec": {
   "display_name": "Python 3",
   "language": "python",
   "name": "python3"
  },
  "language_info": {
   "codemirror_mode": {
    "name": "ipython",
    "version": 3
   },
   "file_extension": ".py",
   "mimetype": "text/x-python",
   "name": "python",
   "nbconvert_exporter": "python",
   "pygments_lexer": "ipython3",
   "version": "3.12.2"
  }
 },
 "nbformat": 4,
 "nbformat_minor": 2
}
